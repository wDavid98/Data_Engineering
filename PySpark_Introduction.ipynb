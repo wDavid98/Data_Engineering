{
 "cells": [
  {
   "cell_type": "markdown",
   "metadata": {},
   "source": [
    "# **PYSPARK INTRODUCTION**"
   ]
  },
  {
   "cell_type": "code",
   "execution_count": 6,
   "metadata": {},
   "outputs": [],
   "source": [
    "## Librerías\n",
    "import numpy as np\n",
    "import pandas as pd \n",
    "import pyspark"
   ]
  },
  {
   "cell_type": "code",
   "execution_count": 19,
   "metadata": {},
   "outputs": [
    {
     "data": {
      "text/html": [
       "<div>\n",
       "<style scoped>\n",
       "    .dataframe tbody tr th:only-of-type {\n",
       "        vertical-align: middle;\n",
       "    }\n",
       "\n",
       "    .dataframe tbody tr th {\n",
       "        vertical-align: top;\n",
       "    }\n",
       "\n",
       "    .dataframe thead th {\n",
       "        text-align: right;\n",
       "    }\n",
       "</style>\n",
       "<table border=\"1\" class=\"dataframe\">\n",
       "  <thead>\n",
       "    <tr style=\"text-align: right;\">\n",
       "      <th></th>\n",
       "      <th>Avg. Area Income</th>\n",
       "      <th>Avg. Area House Age</th>\n",
       "      <th>Avg. Area Number of Rooms</th>\n",
       "      <th>Avg. Area Number of Bedrooms</th>\n",
       "      <th>Area Population</th>\n",
       "      <th>Price</th>\n",
       "      <th>Address</th>\n",
       "    </tr>\n",
       "  </thead>\n",
       "  <tbody>\n",
       "    <tr>\n",
       "      <th>0</th>\n",
       "      <td>79545.45857</td>\n",
       "      <td>5.682861</td>\n",
       "      <td>7.009188</td>\n",
       "      <td>4.09</td>\n",
       "      <td>23086.80050</td>\n",
       "      <td>1.059034e+06</td>\n",
       "      <td>208 Michael Ferry Apt. 674\\nLaurabury, NE 3701...</td>\n",
       "    </tr>\n",
       "    <tr>\n",
       "      <th>1</th>\n",
       "      <td>79248.64245</td>\n",
       "      <td>6.002900</td>\n",
       "      <td>6.730821</td>\n",
       "      <td>3.09</td>\n",
       "      <td>40173.07217</td>\n",
       "      <td>1.505891e+06</td>\n",
       "      <td>188 Johnson Views Suite 079\\nLake Kathleen, CA...</td>\n",
       "    </tr>\n",
       "    <tr>\n",
       "      <th>2</th>\n",
       "      <td>61287.06718</td>\n",
       "      <td>5.865890</td>\n",
       "      <td>8.512727</td>\n",
       "      <td>5.13</td>\n",
       "      <td>36882.15940</td>\n",
       "      <td>1.058988e+06</td>\n",
       "      <td>9127 Elizabeth Stravenue\\nDanieltown, WI 06482...</td>\n",
       "    </tr>\n",
       "    <tr>\n",
       "      <th>3</th>\n",
       "      <td>63345.24005</td>\n",
       "      <td>7.188236</td>\n",
       "      <td>5.586729</td>\n",
       "      <td>3.26</td>\n",
       "      <td>34310.24283</td>\n",
       "      <td>1.260617e+06</td>\n",
       "      <td>USS Barnett\\nFPO AP 44820</td>\n",
       "    </tr>\n",
       "    <tr>\n",
       "      <th>4</th>\n",
       "      <td>59982.19723</td>\n",
       "      <td>5.040555</td>\n",
       "      <td>7.839388</td>\n",
       "      <td>4.23</td>\n",
       "      <td>26354.10947</td>\n",
       "      <td>6.309435e+05</td>\n",
       "      <td>USNS Raymond\\nFPO AE 09386</td>\n",
       "    </tr>\n",
       "  </tbody>\n",
       "</table>\n",
       "</div>"
      ],
      "text/plain": [
       "   Avg. Area Income  Avg. Area House Age  Avg. Area Number of Rooms  \\\n",
       "0       79545.45857             5.682861                   7.009188   \n",
       "1       79248.64245             6.002900                   6.730821   \n",
       "2       61287.06718             5.865890                   8.512727   \n",
       "3       63345.24005             7.188236                   5.586729   \n",
       "4       59982.19723             5.040555                   7.839388   \n",
       "\n",
       "   Avg. Area Number of Bedrooms  Area Population         Price  \\\n",
       "0                          4.09      23086.80050  1.059034e+06   \n",
       "1                          3.09      40173.07217  1.505891e+06   \n",
       "2                          5.13      36882.15940  1.058988e+06   \n",
       "3                          3.26      34310.24283  1.260617e+06   \n",
       "4                          4.23      26354.10947  6.309435e+05   \n",
       "\n",
       "                                             Address  \n",
       "0  208 Michael Ferry Apt. 674\\nLaurabury, NE 3701...  \n",
       "1  188 Johnson Views Suite 079\\nLake Kathleen, CA...  \n",
       "2  9127 Elizabeth Stravenue\\nDanieltown, WI 06482...  \n",
       "3                          USS Barnett\\nFPO AP 44820  \n",
       "4                         USNS Raymond\\nFPO AE 09386  "
      ]
     },
     "execution_count": 19,
     "metadata": {},
     "output_type": "execute_result"
    }
   ],
   "source": [
    "df_pandas = pd.read_csv('data/housing.csv')\n",
    "\n",
    "df_pandas.head()"
   ]
  },
  {
   "cell_type": "code",
   "execution_count": null,
   "metadata": {},
   "outputs": [
    {
     "name": "stdout",
     "output_type": "stream",
     "text": [
      "+----------------+-------------------+-------------------------+----------------------------+---------------+-----------+--------------------+\n",
      "|Avg. Area Income|Avg. Area House Age|Avg. Area Number of Rooms|Avg. Area Number of Bedrooms|Area Population|      Price|             Address|\n",
      "+----------------+-------------------+-------------------------+----------------------------+---------------+-----------+--------------------+\n",
      "|     79545.45857|        5.682861322|              7.009188143|                        4.09|     23086.8005|1059033.558|208 Michael Ferry...|\n",
      "|       Laurabury|     NE 37010-5101\"|                     NULL|                        NULL|           NULL|       NULL|                NULL|\n",
      "|     79248.64245|        6.002899808|              6.730821019|                        3.09|    40173.07217|1505890.915|188 Johnson Views...|\n",
      "|   Lake Kathleen|          CA 48958\"|                     NULL|                        NULL|           NULL|       NULL|                NULL|\n",
      "|     61287.06718|         5.86588984|               8.51272743|                        5.13|     36882.1594|1058987.988|9127 Elizabeth St...|\n",
      "+----------------+-------------------+-------------------------+----------------------------+---------------+-----------+--------------------+\n",
      "only showing top 5 rows\n",
      "\n"
     ]
    }
   ],
   "source": [
    "## Crear sesión de Spark \n",
    "from pyspark.sql import SparkSession\n",
    "spark = SparkSession.builder.appName(\"Practise\").getOrCreate()\n",
    "\n",
    "## Crear un DataFrame\n",
    "df = spark.read.csv('data/housing.csv', header=True, sep=',')\n",
    "df.show(5)"
   ]
  },
  {
   "cell_type": "code",
   "execution_count": 87,
   "metadata": {},
   "outputs": [
    {
     "name": "stdout",
     "output_type": "stream",
     "text": [
      "+----------------+-------------------+-------------------------+----------------------------+---------------+-----------+--------------------+\n",
      "|Avg. Area Income|Avg. Area House Age|Avg. Area Number of Rooms|Avg. Area Number of Bedrooms|Area Population|      Price|             Address|\n",
      "+----------------+-------------------+-------------------------+----------------------------+---------------+-----------+--------------------+\n",
      "|     79545.45857|        5.682861322|              7.009188143|                        4.09|     23086.8005|1059033.558|208 Michael Ferry...|\n",
      "|     79248.64245|        6.002899808|              6.730821019|                        3.09|    40173.07217|1505890.915|188 Johnson Views...|\n",
      "|     61287.06718|         5.86588984|               8.51272743|                        5.13|     36882.1594|1058987.988|9127 Elizabeth St...|\n",
      "|     63345.24005|        7.188236095|              5.586728665|                        3.26|    34310.24283|1260616.807|USS Barnett\\nFPO ...|\n",
      "|     59982.19723|        5.040554523|              7.839387785|                        4.23|    26354.10947|630943.4893|USNS Raymond\\nFPO...|\n",
      "+----------------+-------------------+-------------------------+----------------------------+---------------+-----------+--------------------+\n",
      "only showing top 5 rows\n",
      "\n"
     ]
    }
   ],
   "source": [
    "## the second row is just the continuation of the previous row\n",
    "df = spark.read.format(\"csv\").load(\"data/housing.csv\", header=True, sep=',',inferSchema=True, multiLine=True)\n",
    "df.show(5)"
   ]
  },
  {
   "cell_type": "code",
   "execution_count": 88,
   "metadata": {},
   "outputs": [
    {
     "name": "stdout",
     "output_type": "stream",
     "text": [
      "+---------------+------------------+------------------------+---------------------------+---------------+-----------+--------------------+\n",
      "|Avg_Area_Income|Avg_Area_House_Age|Avg_Area_Number_of_Rooms|Avg_Area_Number_of_Bedrooms|Area_Population|      Price|             Address|\n",
      "+---------------+------------------+------------------------+---------------------------+---------------+-----------+--------------------+\n",
      "|    79545.45857|       5.682861322|             7.009188143|                       4.09|     23086.8005|1059033.558|208 Michael Ferry...|\n",
      "|    79248.64245|       6.002899808|             6.730821019|                       3.09|    40173.07217|1505890.915|188 Johnson Views...|\n",
      "|    61287.06718|        5.86588984|              8.51272743|                       5.13|     36882.1594|1058987.988|9127 Elizabeth St...|\n",
      "|    63345.24005|       7.188236095|             5.586728665|                       3.26|    34310.24283|1260616.807|USS Barnett\\nFPO ...|\n",
      "|    59982.19723|       5.040554523|             7.839387785|                       4.23|    26354.10947|630943.4893|USNS Raymond\\nFPO...|\n",
      "+---------------+------------------+------------------------+---------------------------+---------------+-----------+--------------------+\n",
      "only showing top 5 rows\n",
      "\n"
     ]
    }
   ],
   "source": [
    "## rename Avg. Area Income to Avg_Area_Income, Avg. Area House Age to Avg_Area_House_Age, Avg. Area Number of Rooms to Avg_Area_Number_of_Rooms, Avg. Area Number of Bedrooms to Avg_Area_Number_of_Bedrooms, Area Population to Area_Population\n",
    "df = df.withColumnRenamed(\"Avg. Area Income\", \"Avg_Area_Income\") \\\n",
    "       .withColumnRenamed(\"Avg. Area House Age\", \"Avg_Area_House_Age\") \\\n",
    "       .withColumnRenamed(\"Avg. Area Number of Rooms\", \"Avg_Area_Number_of_Rooms\") \\\n",
    "       .withColumnRenamed(\"Avg. Area Number of Bedrooms\", \"Avg_Area_Number_of_Bedrooms\") \\\n",
    "       .withColumnRenamed(\"Area Population\", \"Area_Population\")\n",
    "df.show(5)"
   ]
  },
  {
   "cell_type": "code",
   "execution_count": 89,
   "metadata": {},
   "outputs": [
    {
     "name": "stdout",
     "output_type": "stream",
     "text": [
      "root\n",
      " |-- Avg_Area_Income: double (nullable = true)\n",
      " |-- Avg_Area_House_Age: double (nullable = true)\n",
      " |-- Avg_Area_Number_of_Rooms: double (nullable = true)\n",
      " |-- Avg_Area_Number_of_Bedrooms: double (nullable = true)\n",
      " |-- Area_Population: double (nullable = true)\n",
      " |-- Price: double (nullable = true)\n",
      " |-- Address: string (nullable = true)\n",
      "\n"
     ]
    }
   ],
   "source": [
    "## equivalent to df.info in pandas \n",
    "df.printSchema()"
   ]
  },
  {
   "cell_type": "code",
   "execution_count": 90,
   "metadata": {},
   "outputs": [
    {
     "name": "stdout",
     "output_type": "stream",
     "text": [
      "+---------------+\n",
      "|Avg_Area_Income|\n",
      "+---------------+\n",
      "|    79545.45857|\n",
      "|    79248.64245|\n",
      "|    61287.06718|\n",
      "|    63345.24005|\n",
      "|    59982.19723|\n",
      "+---------------+\n",
      "only showing top 5 rows\n",
      "\n"
     ]
    }
   ],
   "source": [
    "## select items from the dataframe just one column (Avg. Area Income)\n",
    "df.select('Avg_Area_Income').show(5)"
   ]
  },
  {
   "cell_type": "code",
   "execution_count": 91,
   "metadata": {},
   "outputs": [
    {
     "name": "stdout",
     "output_type": "stream",
     "text": [
      "+---------------+------------------------+\n",
      "|Avg_Area_Income|Avg_Area_Number_of_Rooms|\n",
      "+---------------+------------------------+\n",
      "|    79545.45857|             7.009188143|\n",
      "|    79248.64245|             6.730821019|\n",
      "|    61287.06718|              8.51272743|\n",
      "|    63345.24005|             5.586728665|\n",
      "|    59982.19723|             7.839387785|\n",
      "+---------------+------------------------+\n",
      "only showing top 5 rows\n",
      "\n"
     ]
    }
   ],
   "source": [
    "df.select(['Avg_Area_Income','Avg_Area_Number_of_Rooms']).show(5)"
   ]
  },
  {
   "cell_type": "code",
   "execution_count": 92,
   "metadata": {},
   "outputs": [
    {
     "data": {
      "text/plain": [
       "[('Avg_Area_Income', 'double'),\n",
       " ('Avg_Area_House_Age', 'double'),\n",
       " ('Avg_Area_Number_of_Rooms', 'double'),\n",
       " ('Avg_Area_Number_of_Bedrooms', 'double'),\n",
       " ('Area_Population', 'double'),\n",
       " ('Price', 'double'),\n",
       " ('Address', 'string')]"
      ]
     },
     "execution_count": 92,
     "metadata": {},
     "output_type": "execute_result"
    }
   ],
   "source": [
    "df.dtypes"
   ]
  },
  {
   "cell_type": "code",
   "execution_count": 93,
   "metadata": {},
   "outputs": [
    {
     "name": "stdout",
     "output_type": "stream",
     "text": [
      "+-------+------------------+------------------+------------------------+---------------------------+-----------------+------------------+--------------------+\n",
      "|summary|   Avg_Area_Income|Avg_Area_House_Age|Avg_Area_Number_of_Rooms|Avg_Area_Number_of_Bedrooms|  Area_Population|             Price|             Address|\n",
      "+-------+------------------+------------------+------------------------+---------------------------+-----------------+------------------+--------------------+\n",
      "|  count|              5000|              5000|                    5000|                       5000|             5000|              5000|                5000|\n",
      "|   mean| 68583.10898397019| 5.977222035287008|       6.987791850909204|         3.9813299999999967|36163.51603854035|1232072.6541452995|                NULL|\n",
      "| stddev|10657.991213888685|0.9914561798324225|      1.0058332312754115|         1.2341372654846832|9925.650113546026| 353117.6265836953|                NULL|\n",
      "|    min|       17796.63119|       2.644304186|             3.236194023|                        2.0|      172.6106863|       15938.65792|000 Adkins Cresce...|\n",
      "|    max|       107701.7484|       9.519088066|             10.75958834|                        6.5|      69621.71338|       2469065.594|Unit 9871 Box 903...|\n",
      "+-------+------------------+------------------+------------------------+---------------------------+-----------------+------------------+--------------------+\n",
      "\n"
     ]
    }
   ],
   "source": [
    "df.describe().show()"
   ]
  },
  {
   "cell_type": "code",
   "execution_count": 94,
   "metadata": {},
   "outputs": [
    {
     "name": "stdout",
     "output_type": "stream",
     "text": [
      "+---------------+------------------+------------------------+---------------------------+---------------+-----------+--------------------+--------------------+\n",
      "|Avg_Area_Income|Avg_Area_House_Age|Avg_Area_Number_of_Rooms|Avg_Area_Number_of_Bedrooms|Area_Population|      Price|             Address|Avg_Area_Income_1000|\n",
      "+---------------+------------------+------------------------+---------------------------+---------------+-----------+--------------------+--------------------+\n",
      "|    79545.45857|       5.682861322|             7.009188143|                       4.09|     23086.8005|1059033.558|208 Michael Ferry...|   79.54545857000001|\n",
      "|    79248.64245|       6.002899808|             6.730821019|                       3.09|    40173.07217|1505890.915|188 Johnson Views...|         79.24864245|\n",
      "|    61287.06718|        5.86588984|              8.51272743|                       5.13|     36882.1594|1058987.988|9127 Elizabeth St...|         61.28706718|\n",
      "|    63345.24005|       7.188236095|             5.586728665|                       3.26|    34310.24283|1260616.807|USS Barnett\\nFPO ...|         63.34524005|\n",
      "|    59982.19723|       5.040554523|             7.839387785|                       4.23|    26354.10947|630943.4893|USNS Raymond\\nFPO...|         59.98219723|\n",
      "+---------------+------------------+------------------------+---------------------------+---------------+-----------+--------------------+--------------------+\n",
      "only showing top 5 rows\n",
      "\n"
     ]
    }
   ],
   "source": [
    "## Addding columns to the dataframe\n",
    "# Add a new column called 'Avg_Area_Income_1000' which is the 'Avg_Area_Income' divided by 1000\n",
    "df = df.withColumn('Avg_Area_Income_1000', df['Avg_Area_Income']/1000)\n",
    "df.show(5)"
   ]
  },
  {
   "cell_type": "code",
   "execution_count": 96,
   "metadata": {},
   "outputs": [
    {
     "name": "stdout",
     "output_type": "stream",
     "text": [
      "+---------------+------------------+------------------------+---------------------------+---------------+-----------+--------------------+\n",
      "|Avg_Area_Income|Avg_Area_House_Age|Avg_Area_Number_of_Rooms|Avg_Area_Number_of_Bedrooms|Area_Population|      Price|             Address|\n",
      "+---------------+------------------+------------------------+---------------------------+---------------+-----------+--------------------+\n",
      "|    79545.45857|       5.682861322|             7.009188143|                       4.09|     23086.8005|1059033.558|208 Michael Ferry...|\n",
      "|    79248.64245|       6.002899808|             6.730821019|                       3.09|    40173.07217|1505890.915|188 Johnson Views...|\n",
      "|    61287.06718|        5.86588984|              8.51272743|                       5.13|     36882.1594|1058987.988|9127 Elizabeth St...|\n",
      "|    63345.24005|       7.188236095|             5.586728665|                       3.26|    34310.24283|1260616.807|USS Barnett\\nFPO ...|\n",
      "|    59982.19723|       5.040554523|             7.839387785|                       4.23|    26354.10947|630943.4893|USNS Raymond\\nFPO...|\n",
      "+---------------+------------------+------------------------+---------------------------+---------------+-----------+--------------------+\n",
      "only showing top 5 rows\n",
      "\n"
     ]
    }
   ],
   "source": [
    "## delete a column from the dataframe\n",
    "df = df.drop('Avg_Area_Income_1000')\n",
    "df.show(5)"
   ]
  },
  {
   "cell_type": "code",
   "execution_count": 104,
   "metadata": {},
   "outputs": [
    {
     "name": "stdout",
     "output_type": "stream",
     "text": [
      "+---------------+------------------+------------------------+---------------------------+---------------+-----------+--------------------+\n",
      "|Avg_Area_Income|Avg_Area_House_Age|Avg_Area_Number_of_Rooms|Avg_Area_Number_of_Bedrooms|Area_Population|      Price|             Address|\n",
      "+---------------+------------------+------------------------+---------------------------+---------------+-----------+--------------------+\n",
      "|       79545.46|       5.682861322|             7.009188143|                       4.09|     23086.8005|1059033.558|208 Michael Ferry...|\n",
      "|       79248.64|       6.002899808|             6.730821019|                       3.09|    40173.07217|1505890.915|188 Johnson Views...|\n",
      "|      61287.066|        5.86588984|              8.51272743|                       5.13|     36882.1594|1058987.988|9127 Elizabeth St...|\n",
      "|       63345.24|       7.188236095|             5.586728665|                       3.26|    34310.24283|1260616.807|USS Barnett\\nFPO ...|\n",
      "|      59982.195|       5.040554523|             7.839387785|                       4.23|    26354.10947|630943.4893|USNS Raymond\\nFPO...|\n",
      "+---------------+------------------+------------------------+---------------------------+---------------+-----------+--------------------+\n",
      "only showing top 5 rows\n",
      "\n"
     ]
    }
   ],
   "source": [
    "## generate random nan values in the dataframe\n",
    "import random\n",
    "from pyspark.sql.functions import lit\n",
    "from pyspark.sql.functions import udf\n",
    "from pyspark.sql.types import FloatType\n",
    "\n",
    "## read again the data\n",
    "df = spark.read.format(\"csv\").load(\"data/housing.csv\", header=True, sep=',',inferSchema=True, multiLine=True)\n",
    "df = df.withColumnRenamed(\"Avg. Area Income\", \"Avg_Area_Income\") \\\n",
    "       .withColumnRenamed(\"Avg. Area House Age\", \"Avg_Area_House_Age\") \\\n",
    "       .withColumnRenamed(\"Avg. Area Number of Rooms\", \"Avg_Area_Number_of_Rooms\") \\\n",
    "       .withColumnRenamed(\"Avg. Area Number of Bedrooms\", \"Avg_Area_Number_of_Bedrooms\") \\\n",
    "       .withColumnRenamed(\"Area Population\", \"Area_Population\")\n",
    "\n",
    "def random_nan(value):\n",
    "    if random.random() < 0.1:\n",
    "        return None\n",
    "    return value\n",
    "\n",
    "random_nan_udf = udf(random_nan, FloatType())\n",
    "\n",
    "df = df.withColumn('Avg_Area_Income', random_nan_udf(df['Avg_Area_Income']))\n",
    "\n",
    "df.show(5)"
   ]
  },
  {
   "cell_type": "code",
   "execution_count": 105,
   "metadata": {},
   "outputs": [
    {
     "name": "stdout",
     "output_type": "stream",
     "text": [
      "+---------------+------------------+------------------------+---------------------------+---------------+-----------+--------------------+\n",
      "|Avg_Area_Income|Avg_Area_House_Age|Avg_Area_Number_of_Rooms|Avg_Area_Number_of_Bedrooms|Area_Population|      Price|             Address|\n",
      "+---------------+------------------+------------------------+---------------------------+---------------+-----------+--------------------+\n",
      "|       59927.66|        5.36212557|             6.393120981|                        2.3|      29387.396|798869.5328|USS Gilbert\\nFPO ...|\n",
      "|           NULL|         6.1243421|             6.290820167|                       4.42|    39355.62573|1170720.894|4343 Joshua Lake ...|\n",
      "|      78699.516|       5.652783637|             6.756453856|                       3.01|    22836.60757|1081150.125|7585 Lynn Loop\\nE...|\n",
      "|       59539.95|       6.018590243|             7.007676166|                       5.43|    58600.82715|1411730.477|122 Russo Neck\\nS...|\n",
      "|      48904.984|       4.844972531|              5.44895603|                       3.38|    32960.75307|201898.0866|2124 Garcia Viadu...|\n",
      "|      63441.715|       6.471673727|             7.064811136|                       3.22|    48061.75267|1302933.248|Unit 3405 Box 434...|\n",
      "|      63027.676|       4.855968121|             5.580905937|                        2.3|    35991.72064|608794.2467|246 Michele Lock ...|\n",
      "|       79737.61|       7.315957927|             6.611096005|                       2.17|    28307.31433|1463130.273|5042 Ricky Road\\n...|\n",
      "|      63890.473|       4.972306568|             7.916386397|                       5.49|    43416.49782| 1252391.18|60860 Griffin Str...|\n",
      "|       67310.04|       7.193792989|             7.760732555|                       5.28|    43310.61243|1714445.175|89002 Robert Squa...|\n",
      "|       73064.98|       5.994062799|             7.204368895|                       6.19|    30699.33971|1276448.792|5808 Burton Viadu...|\n",
      "|      47681.363|       6.890508224|             7.788267986|                       5.13|    50908.97891|1230149.137|PSC 6933, Box 380...|\n",
      "|       69277.89|       6.142591681|             7.811724471|                       5.15|    43717.91309|1415073.614|256 Sanchez Ports...|\n",
      "|      52575.816|       7.133719417|             7.173698882|                       4.06|    41828.57962|1237224.859|8803 Jackson Ramp...|\n",
      "|      59513.836|       4.885131771|              5.57471435|                       3.18|    44162.27921|894292.0474|14157 Jones Parkw...|\n",
      "|      78379.414|       5.985697151|             5.681833507|                        3.2|    31357.38821|1159841.831|2579 Pamela Shoal...|\n",
      "|       76268.82|       6.942797867|             6.147907596|                       3.17|    38649.85239| 1494125.33|9109 Omar View Su...|\n",
      "|      63117.844|       4.940396705|             5.636779395|                       2.31|    43091.84514|774118.1878|2128 Shawna Orcha...|\n",
      "|       75860.86|        3.69089057|             4.788380207|                       3.48|    41003.88008|889113.2389|019 Moore Center ...|\n",
      "|      57353.156|        8.07544792|             5.678555483|                       4.44|    16906.42172| 798892.515|88404 William Cap...|\n",
      "+---------------+------------------+------------------------+---------------------------+---------------+-----------+--------------------+\n",
      "only showing top 20 rows\n",
      "\n"
     ]
    }
   ],
   "source": [
    "## show rows with nan values\n",
    "df.filter(df['Avg_Area_Income'].isNull()).show()"
   ]
  },
  {
   "cell_type": "code",
   "execution_count": 106,
   "metadata": {},
   "outputs": [
    {
     "data": {
      "text/plain": [
       "5000"
      ]
     },
     "execution_count": 106,
     "metadata": {},
     "output_type": "execute_result"
    }
   ],
   "source": [
    "## Handling missing values\n",
    "df.count()"
   ]
  },
  {
   "cell_type": "code",
   "execution_count": 107,
   "metadata": {},
   "outputs": [
    {
     "data": {
      "text/plain": [
       "4490"
      ]
     },
     "execution_count": 107,
     "metadata": {},
     "output_type": "execute_result"
    }
   ],
   "source": [
    "df = df.na.drop()\n",
    "df.count()"
   ]
  },
  {
   "cell_type": "code",
   "execution_count": 108,
   "metadata": {},
   "outputs": [
    {
     "name": "stdout",
     "output_type": "stream",
     "text": [
      "+---------------+------------------+------------------------+---------------------------+---------------+-----------+--------------------+\n",
      "|Avg_Area_Income|Avg_Area_House_Age|Avg_Area_Number_of_Rooms|Avg_Area_Number_of_Bedrooms|Area_Population|      Price|             Address|\n",
      "+---------------+------------------+------------------------+---------------------------+---------------+-----------+--------------------+\n",
      "|       79545.46|       5.682861322|             7.009188143|                       4.09|     23086.8005|1059033.558|208 Michael Ferry...|\n",
      "|       79248.64|       6.002899808|             6.730821019|                       3.09|    40173.07217|1505890.915|188 Johnson Views...|\n",
      "|      61287.066|        5.86588984|              8.51272743|                       5.13|     36882.1594|1058987.988|9127 Elizabeth St...|\n",
      "|       63345.24|       7.188236095|             5.586728665|                       3.26|    34310.24283|1260616.807|USS Barnett\\nFPO ...|\n",
      "|      59982.195|       5.040554523|             7.839387785|                       4.23|    26354.10947|630943.4893|USNS Raymond\\nFPO...|\n",
      "+---------------+------------------+------------------------+---------------------------+---------------+-----------+--------------------+\n",
      "only showing top 5 rows\n",
      "\n"
     ]
    }
   ],
   "source": [
    "## Filling missing values\n",
    "\n",
    "# read again the data\n",
    "df = spark.read.format(\"csv\").load(\"data/housing.csv\", header=True, sep=',',inferSchema=True, multiLine=True)\n",
    "df = df = df.withColumnRenamed(\"Avg. Area Income\", \"Avg_Area_Income\") \\\n",
    "       .withColumnRenamed(\"Avg. Area House Age\", \"Avg_Area_House_Age\") \\\n",
    "       .withColumnRenamed(\"Avg. Area Number of Rooms\", \"Avg_Area_Number_of_Rooms\") \\\n",
    "       .withColumnRenamed(\"Avg. Area Number of Bedrooms\", \"Avg_Area_Number_of_Bedrooms\") \\\n",
    "       .withColumnRenamed(\"Area Population\", \"Area_Population\")\n",
    "       \n",
    "       \n",
    "def random_nan(value):\n",
    "    if random.random() < 0.1:\n",
    "        return None\n",
    "    return value\n",
    "\n",
    "random_nan_udf = udf(random_nan, FloatType())\n",
    "\n",
    "df = df.withColumn('Avg_Area_Income', random_nan_udf(df['Avg_Area_Income']))\n",
    "\n",
    "df.show(5)"
   ]
  }
 ],
 "metadata": {
  "kernelspec": {
   "display_name": "dataEng_env",
   "language": "python",
   "name": "python3"
  },
  "language_info": {
   "codemirror_mode": {
    "name": "ipython",
    "version": 3
   },
   "file_extension": ".py",
   "mimetype": "text/x-python",
   "name": "python",
   "nbconvert_exporter": "python",
   "pygments_lexer": "ipython3",
   "version": "3.10.11"
  }
 },
 "nbformat": 4,
 "nbformat_minor": 2
}
