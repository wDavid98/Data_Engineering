{
 "cells": [
  {
   "cell_type": "markdown",
   "metadata": {},
   "source": [
    "# **PySpark: Introduction to DataFrames**"
   ]
  },
  {
   "cell_type": "markdown",
   "metadata": {},
   "source": [
    "## DataFrame creation"
   ]
  },
  {
   "cell_type": "code",
   "execution_count": 1,
   "metadata": {},
   "outputs": [],
   "source": [
    "## Librerías\n",
    "import numpy as np\n",
    "import pandas as pd \n",
    "import pyspark"
   ]
  },
  {
   "cell_type": "code",
   "execution_count": 2,
   "metadata": {},
   "outputs": [
    {
     "data": {
      "text/html": [
       "<div>\n",
       "<style scoped>\n",
       "    .dataframe tbody tr th:only-of-type {\n",
       "        vertical-align: middle;\n",
       "    }\n",
       "\n",
       "    .dataframe tbody tr th {\n",
       "        vertical-align: top;\n",
       "    }\n",
       "\n",
       "    .dataframe thead th {\n",
       "        text-align: right;\n",
       "    }\n",
       "</style>\n",
       "<table border=\"1\" class=\"dataframe\">\n",
       "  <thead>\n",
       "    <tr style=\"text-align: right;\">\n",
       "      <th></th>\n",
       "      <th>Avg. Area Income</th>\n",
       "      <th>Avg. Area House Age</th>\n",
       "      <th>Avg. Area Number of Rooms</th>\n",
       "      <th>Avg. Area Number of Bedrooms</th>\n",
       "      <th>Area Population</th>\n",
       "      <th>Price</th>\n",
       "      <th>Address</th>\n",
       "    </tr>\n",
       "  </thead>\n",
       "  <tbody>\n",
       "    <tr>\n",
       "      <th>0</th>\n",
       "      <td>79545.45857</td>\n",
       "      <td>5.682861</td>\n",
       "      <td>7.009188</td>\n",
       "      <td>4.09</td>\n",
       "      <td>23086.80050</td>\n",
       "      <td>1.059034e+06</td>\n",
       "      <td>208 Michael Ferry Apt. 674\\nLaurabury, NE 3701...</td>\n",
       "    </tr>\n",
       "    <tr>\n",
       "      <th>1</th>\n",
       "      <td>79248.64245</td>\n",
       "      <td>6.002900</td>\n",
       "      <td>6.730821</td>\n",
       "      <td>3.09</td>\n",
       "      <td>40173.07217</td>\n",
       "      <td>1.505891e+06</td>\n",
       "      <td>188 Johnson Views Suite 079\\nLake Kathleen, CA...</td>\n",
       "    </tr>\n",
       "    <tr>\n",
       "      <th>2</th>\n",
       "      <td>61287.06718</td>\n",
       "      <td>5.865890</td>\n",
       "      <td>8.512727</td>\n",
       "      <td>5.13</td>\n",
       "      <td>36882.15940</td>\n",
       "      <td>1.058988e+06</td>\n",
       "      <td>9127 Elizabeth Stravenue\\nDanieltown, WI 06482...</td>\n",
       "    </tr>\n",
       "    <tr>\n",
       "      <th>3</th>\n",
       "      <td>63345.24005</td>\n",
       "      <td>7.188236</td>\n",
       "      <td>5.586729</td>\n",
       "      <td>3.26</td>\n",
       "      <td>34310.24283</td>\n",
       "      <td>1.260617e+06</td>\n",
       "      <td>USS Barnett\\nFPO AP 44820</td>\n",
       "    </tr>\n",
       "    <tr>\n",
       "      <th>4</th>\n",
       "      <td>59982.19723</td>\n",
       "      <td>5.040555</td>\n",
       "      <td>7.839388</td>\n",
       "      <td>4.23</td>\n",
       "      <td>26354.10947</td>\n",
       "      <td>6.309435e+05</td>\n",
       "      <td>USNS Raymond\\nFPO AE 09386</td>\n",
       "    </tr>\n",
       "  </tbody>\n",
       "</table>\n",
       "</div>"
      ],
      "text/plain": [
       "   Avg. Area Income  Avg. Area House Age  Avg. Area Number of Rooms  \\\n",
       "0       79545.45857             5.682861                   7.009188   \n",
       "1       79248.64245             6.002900                   6.730821   \n",
       "2       61287.06718             5.865890                   8.512727   \n",
       "3       63345.24005             7.188236                   5.586729   \n",
       "4       59982.19723             5.040555                   7.839388   \n",
       "\n",
       "   Avg. Area Number of Bedrooms  Area Population         Price  \\\n",
       "0                          4.09      23086.80050  1.059034e+06   \n",
       "1                          3.09      40173.07217  1.505891e+06   \n",
       "2                          5.13      36882.15940  1.058988e+06   \n",
       "3                          3.26      34310.24283  1.260617e+06   \n",
       "4                          4.23      26354.10947  6.309435e+05   \n",
       "\n",
       "                                             Address  \n",
       "0  208 Michael Ferry Apt. 674\\nLaurabury, NE 3701...  \n",
       "1  188 Johnson Views Suite 079\\nLake Kathleen, CA...  \n",
       "2  9127 Elizabeth Stravenue\\nDanieltown, WI 06482...  \n",
       "3                          USS Barnett\\nFPO AP 44820  \n",
       "4                         USNS Raymond\\nFPO AE 09386  "
      ]
     },
     "execution_count": 2,
     "metadata": {},
     "output_type": "execute_result"
    }
   ],
   "source": [
    "df_pandas = pd.read_csv('data/housing.csv')\n",
    "\n",
    "df_pandas.head()"
   ]
  },
  {
   "cell_type": "code",
   "execution_count": 3,
   "metadata": {},
   "outputs": [
    {
     "name": "stdout",
     "output_type": "stream",
     "text": [
      "+----------------+-------------------+-------------------------+----------------------------+---------------+-----------+--------------------+\n",
      "|Avg. Area Income|Avg. Area House Age|Avg. Area Number of Rooms|Avg. Area Number of Bedrooms|Area Population|      Price|             Address|\n",
      "+----------------+-------------------+-------------------------+----------------------------+---------------+-----------+--------------------+\n",
      "|     79545.45857|        5.682861322|              7.009188143|                        4.09|     23086.8005|1059033.558|208 Michael Ferry...|\n",
      "|       Laurabury|     NE 37010-5101\"|                     NULL|                        NULL|           NULL|       NULL|                NULL|\n",
      "|     79248.64245|        6.002899808|              6.730821019|                        3.09|    40173.07217|1505890.915|188 Johnson Views...|\n",
      "|   Lake Kathleen|          CA 48958\"|                     NULL|                        NULL|           NULL|       NULL|                NULL|\n",
      "|     61287.06718|         5.86588984|               8.51272743|                        5.13|     36882.1594|1058987.988|9127 Elizabeth St...|\n",
      "+----------------+-------------------+-------------------------+----------------------------+---------------+-----------+--------------------+\n",
      "only showing top 5 rows\n",
      "\n"
     ]
    }
   ],
   "source": [
    "## Crear sesión de Spark \n",
    "from pyspark.sql import SparkSession\n",
    "spark = SparkSession.builder.appName(\"Practise\").getOrCreate()\n",
    "\n",
    "## Crear un DataFrame\n",
    "df = spark.read.csv('data/housing.csv', header=True, sep=',')\n",
    "df.show(5)"
   ]
  },
  {
   "cell_type": "code",
   "execution_count": 4,
   "metadata": {},
   "outputs": [
    {
     "name": "stdout",
     "output_type": "stream",
     "text": [
      "+----------------+-------------------+-------------------------+----------------------------+---------------+-----------+--------------------+\n",
      "|Avg. Area Income|Avg. Area House Age|Avg. Area Number of Rooms|Avg. Area Number of Bedrooms|Area Population|      Price|             Address|\n",
      "+----------------+-------------------+-------------------------+----------------------------+---------------+-----------+--------------------+\n",
      "|     79545.45857|        5.682861322|              7.009188143|                        4.09|     23086.8005|1059033.558|208 Michael Ferry...|\n",
      "|     79248.64245|        6.002899808|              6.730821019|                        3.09|    40173.07217|1505890.915|188 Johnson Views...|\n",
      "|     61287.06718|         5.86588984|               8.51272743|                        5.13|     36882.1594|1058987.988|9127 Elizabeth St...|\n",
      "|     63345.24005|        7.188236095|              5.586728665|                        3.26|    34310.24283|1260616.807|USS Barnett\\nFPO ...|\n",
      "|     59982.19723|        5.040554523|              7.839387785|                        4.23|    26354.10947|630943.4893|USNS Raymond\\nFPO...|\n",
      "+----------------+-------------------+-------------------------+----------------------------+---------------+-----------+--------------------+\n",
      "only showing top 5 rows\n",
      "\n"
     ]
    }
   ],
   "source": [
    "## the second row is just the continuation of the previous row\n",
    "df = spark.read.format(\"csv\").load(\"data/housing.csv\", header=True, sep=',',inferSchema=True, multiLine=True)\n",
    "df.show(5)"
   ]
  },
  {
   "cell_type": "code",
   "execution_count": 5,
   "metadata": {},
   "outputs": [
    {
     "name": "stdout",
     "output_type": "stream",
     "text": [
      "+---------------+------------------+------------------------+---------------------------+---------------+-----------+--------------------+\n",
      "|Avg_Area_Income|Avg_Area_House_Age|Avg_Area_Number_of_Rooms|Avg_Area_Number_of_Bedrooms|Area_Population|      Price|             Address|\n",
      "+---------------+------------------+------------------------+---------------------------+---------------+-----------+--------------------+\n",
      "|    79545.45857|       5.682861322|             7.009188143|                       4.09|     23086.8005|1059033.558|208 Michael Ferry...|\n",
      "|    79248.64245|       6.002899808|             6.730821019|                       3.09|    40173.07217|1505890.915|188 Johnson Views...|\n",
      "|    61287.06718|        5.86588984|              8.51272743|                       5.13|     36882.1594|1058987.988|9127 Elizabeth St...|\n",
      "|    63345.24005|       7.188236095|             5.586728665|                       3.26|    34310.24283|1260616.807|USS Barnett\\nFPO ...|\n",
      "|    59982.19723|       5.040554523|             7.839387785|                       4.23|    26354.10947|630943.4893|USNS Raymond\\nFPO...|\n",
      "+---------------+------------------+------------------------+---------------------------+---------------+-----------+--------------------+\n",
      "only showing top 5 rows\n",
      "\n"
     ]
    }
   ],
   "source": [
    "## rename Avg. Area Income to Avg_Area_Income, Avg. Area House Age to Avg_Area_House_Age, Avg. Area Number of Rooms to Avg_Area_Number_of_Rooms, Avg. Area Number of Bedrooms to Avg_Area_Number_of_Bedrooms, Area Population to Area_Population\n",
    "df = df.withColumnRenamed(\"Avg. Area Income\", \"Avg_Area_Income\") \\\n",
    "       .withColumnRenamed(\"Avg. Area House Age\", \"Avg_Area_House_Age\") \\\n",
    "       .withColumnRenamed(\"Avg. Area Number of Rooms\", \"Avg_Area_Number_of_Rooms\") \\\n",
    "       .withColumnRenamed(\"Avg. Area Number of Bedrooms\", \"Avg_Area_Number_of_Bedrooms\") \\\n",
    "       .withColumnRenamed(\"Area Population\", \"Area_Population\")\n",
    "df.show(5)"
   ]
  },
  {
   "cell_type": "code",
   "execution_count": 6,
   "metadata": {},
   "outputs": [
    {
     "name": "stdout",
     "output_type": "stream",
     "text": [
      "root\n",
      " |-- Avg_Area_Income: double (nullable = true)\n",
      " |-- Avg_Area_House_Age: double (nullable = true)\n",
      " |-- Avg_Area_Number_of_Rooms: double (nullable = true)\n",
      " |-- Avg_Area_Number_of_Bedrooms: double (nullable = true)\n",
      " |-- Area_Population: double (nullable = true)\n",
      " |-- Price: double (nullable = true)\n",
      " |-- Address: string (nullable = true)\n",
      "\n"
     ]
    }
   ],
   "source": [
    "## equivalent to df.info in pandas \n",
    "df.printSchema()"
   ]
  },
  {
   "cell_type": "code",
   "execution_count": 7,
   "metadata": {},
   "outputs": [
    {
     "name": "stdout",
     "output_type": "stream",
     "text": [
      "+---------------+\n",
      "|Avg_Area_Income|\n",
      "+---------------+\n",
      "|    79545.45857|\n",
      "|    79248.64245|\n",
      "|    61287.06718|\n",
      "|    63345.24005|\n",
      "|    59982.19723|\n",
      "+---------------+\n",
      "only showing top 5 rows\n",
      "\n"
     ]
    }
   ],
   "source": [
    "## select items from the dataframe just one column (Avg. Area Income)\n",
    "df.select('Avg_Area_Income').show(5)"
   ]
  },
  {
   "cell_type": "code",
   "execution_count": 8,
   "metadata": {},
   "outputs": [
    {
     "name": "stdout",
     "output_type": "stream",
     "text": [
      "+---------------+------------------------+\n",
      "|Avg_Area_Income|Avg_Area_Number_of_Rooms|\n",
      "+---------------+------------------------+\n",
      "|    79545.45857|             7.009188143|\n",
      "|    79248.64245|             6.730821019|\n",
      "|    61287.06718|              8.51272743|\n",
      "|    63345.24005|             5.586728665|\n",
      "|    59982.19723|             7.839387785|\n",
      "+---------------+------------------------+\n",
      "only showing top 5 rows\n",
      "\n"
     ]
    }
   ],
   "source": [
    "df.select(['Avg_Area_Income','Avg_Area_Number_of_Rooms']).show(5)"
   ]
  },
  {
   "cell_type": "code",
   "execution_count": 9,
   "metadata": {},
   "outputs": [
    {
     "data": {
      "text/plain": [
       "[('Avg_Area_Income', 'double'),\n",
       " ('Avg_Area_House_Age', 'double'),\n",
       " ('Avg_Area_Number_of_Rooms', 'double'),\n",
       " ('Avg_Area_Number_of_Bedrooms', 'double'),\n",
       " ('Area_Population', 'double'),\n",
       " ('Price', 'double'),\n",
       " ('Address', 'string')]"
      ]
     },
     "execution_count": 9,
     "metadata": {},
     "output_type": "execute_result"
    }
   ],
   "source": [
    "df.dtypes"
   ]
  },
  {
   "cell_type": "code",
   "execution_count": 10,
   "metadata": {},
   "outputs": [
    {
     "name": "stdout",
     "output_type": "stream",
     "text": [
      "+-------+------------------+------------------+------------------------+---------------------------+-----------------+------------------+--------------------+\n",
      "|summary|   Avg_Area_Income|Avg_Area_House_Age|Avg_Area_Number_of_Rooms|Avg_Area_Number_of_Bedrooms|  Area_Population|             Price|             Address|\n",
      "+-------+------------------+------------------+------------------------+---------------------------+-----------------+------------------+--------------------+\n",
      "|  count|              5000|              5000|                    5000|                       5000|             5000|              5000|                5000|\n",
      "|   mean| 68583.10898397019| 5.977222035287008|       6.987791850909204|         3.9813299999999967|36163.51603854035|1232072.6541452995|                NULL|\n",
      "| stddev|10657.991213888685|0.9914561798324225|      1.0058332312754115|         1.2341372654846832|9925.650113546026| 353117.6265836953|                NULL|\n",
      "|    min|       17796.63119|       2.644304186|             3.236194023|                        2.0|      172.6106863|       15938.65792|000 Adkins Cresce...|\n",
      "|    max|       107701.7484|       9.519088066|             10.75958834|                        6.5|      69621.71338|       2469065.594|Unit 9871 Box 903...|\n",
      "+-------+------------------+------------------+------------------------+---------------------------+-----------------+------------------+--------------------+\n",
      "\n"
     ]
    }
   ],
   "source": [
    "df.describe().show()"
   ]
  },
  {
   "cell_type": "code",
   "execution_count": 11,
   "metadata": {},
   "outputs": [
    {
     "name": "stdout",
     "output_type": "stream",
     "text": [
      "+---------------+------------------+------------------------+---------------------------+---------------+-----------+--------------------+--------------------+\n",
      "|Avg_Area_Income|Avg_Area_House_Age|Avg_Area_Number_of_Rooms|Avg_Area_Number_of_Bedrooms|Area_Population|      Price|             Address|Avg_Area_Income_1000|\n",
      "+---------------+------------------+------------------------+---------------------------+---------------+-----------+--------------------+--------------------+\n",
      "|    79545.45857|       5.682861322|             7.009188143|                       4.09|     23086.8005|1059033.558|208 Michael Ferry...|   79.54545857000001|\n",
      "|    79248.64245|       6.002899808|             6.730821019|                       3.09|    40173.07217|1505890.915|188 Johnson Views...|         79.24864245|\n",
      "|    61287.06718|        5.86588984|              8.51272743|                       5.13|     36882.1594|1058987.988|9127 Elizabeth St...|         61.28706718|\n",
      "|    63345.24005|       7.188236095|             5.586728665|                       3.26|    34310.24283|1260616.807|USS Barnett\\nFPO ...|         63.34524005|\n",
      "|    59982.19723|       5.040554523|             7.839387785|                       4.23|    26354.10947|630943.4893|USNS Raymond\\nFPO...|         59.98219723|\n",
      "+---------------+------------------+------------------------+---------------------------+---------------+-----------+--------------------+--------------------+\n",
      "only showing top 5 rows\n",
      "\n"
     ]
    }
   ],
   "source": [
    "## Addding columns to the dataframe\n",
    "# Add a new column called 'Avg_Area_Income_1000' which is the 'Avg_Area_Income' divided by 1000\n",
    "df = df.withColumn('Avg_Area_Income_1000', df['Avg_Area_Income']/1000)\n",
    "df.show(5)"
   ]
  },
  {
   "cell_type": "code",
   "execution_count": 12,
   "metadata": {},
   "outputs": [
    {
     "name": "stdout",
     "output_type": "stream",
     "text": [
      "+---------------+------------------+------------------------+---------------------------+---------------+-----------+--------------------+\n",
      "|Avg_Area_Income|Avg_Area_House_Age|Avg_Area_Number_of_Rooms|Avg_Area_Number_of_Bedrooms|Area_Population|      Price|             Address|\n",
      "+---------------+------------------+------------------------+---------------------------+---------------+-----------+--------------------+\n",
      "|    79545.45857|       5.682861322|             7.009188143|                       4.09|     23086.8005|1059033.558|208 Michael Ferry...|\n",
      "|    79248.64245|       6.002899808|             6.730821019|                       3.09|    40173.07217|1505890.915|188 Johnson Views...|\n",
      "|    61287.06718|        5.86588984|              8.51272743|                       5.13|     36882.1594|1058987.988|9127 Elizabeth St...|\n",
      "|    63345.24005|       7.188236095|             5.586728665|                       3.26|    34310.24283|1260616.807|USS Barnett\\nFPO ...|\n",
      "|    59982.19723|       5.040554523|             7.839387785|                       4.23|    26354.10947|630943.4893|USNS Raymond\\nFPO...|\n",
      "+---------------+------------------+------------------------+---------------------------+---------------+-----------+--------------------+\n",
      "only showing top 5 rows\n",
      "\n"
     ]
    }
   ],
   "source": [
    "## delete a column from the dataframe\n",
    "df = df.drop('Avg_Area_Income_1000')\n",
    "df.show(5)"
   ]
  },
  {
   "cell_type": "code",
   "execution_count": 13,
   "metadata": {},
   "outputs": [
    {
     "name": "stdout",
     "output_type": "stream",
     "text": [
      "+---------------+------------------+------------------------+---------------------------+---------------+-----------+--------------------+\n",
      "|Avg_Area_Income|Avg_Area_House_Age|Avg_Area_Number_of_Rooms|Avg_Area_Number_of_Bedrooms|Area_Population|      Price|             Address|\n",
      "+---------------+------------------+------------------------+---------------------------+---------------+-----------+--------------------+\n",
      "|       79545.46|       5.682861322|             7.009188143|                       4.09|     23086.8005|1059033.558|208 Michael Ferry...|\n",
      "|       79248.64|       6.002899808|             6.730821019|                       3.09|    40173.07217|1505890.915|188 Johnson Views...|\n",
      "|      61287.066|        5.86588984|              8.51272743|                       5.13|     36882.1594|1058987.988|9127 Elizabeth St...|\n",
      "|       63345.24|       7.188236095|             5.586728665|                       3.26|    34310.24283|1260616.807|USS Barnett\\nFPO ...|\n",
      "|      59982.195|       5.040554523|             7.839387785|                       4.23|    26354.10947|630943.4893|USNS Raymond\\nFPO...|\n",
      "+---------------+------------------+------------------------+---------------------------+---------------+-----------+--------------------+\n",
      "only showing top 5 rows\n",
      "\n"
     ]
    }
   ],
   "source": [
    "## generate random nan values in the dataframe\n",
    "import random\n",
    "from pyspark.sql.functions import lit\n",
    "from pyspark.sql.functions import udf\n",
    "from pyspark.sql.types import FloatType\n",
    "\n",
    "## read again the data\n",
    "df = spark.read.format(\"csv\").load(\"data/housing.csv\", header=True, sep=',',inferSchema=True, multiLine=True)\n",
    "df = df.withColumnRenamed(\"Avg. Area Income\", \"Avg_Area_Income\") \\\n",
    "       .withColumnRenamed(\"Avg. Area House Age\", \"Avg_Area_House_Age\") \\\n",
    "       .withColumnRenamed(\"Avg. Area Number of Rooms\", \"Avg_Area_Number_of_Rooms\") \\\n",
    "       .withColumnRenamed(\"Avg. Area Number of Bedrooms\", \"Avg_Area_Number_of_Bedrooms\") \\\n",
    "       .withColumnRenamed(\"Area Population\", \"Area_Population\")\n",
    "\n",
    "def random_nan(value):\n",
    "    if random.random() < 0.1:\n",
    "        return None\n",
    "    return value\n",
    "\n",
    "random_nan_udf = udf(random_nan, FloatType())\n",
    "\n",
    "df = df.withColumn('Avg_Area_Income', random_nan_udf(df['Avg_Area_Income']))\n",
    "\n",
    "df.show(5)"
   ]
  },
  {
   "cell_type": "code",
   "execution_count": 14,
   "metadata": {},
   "outputs": [
    {
     "name": "stdout",
     "output_type": "stream",
     "text": [
      "+---------------+------------------+------------------------+---------------------------+---------------+-----------+--------------------+\n",
      "|Avg_Area_Income|Avg_Area_House_Age|Avg_Area_Number_of_Rooms|Avg_Area_Number_of_Bedrooms|Area_Population|      Price|             Address|\n",
      "+---------------+------------------+------------------------+---------------------------+---------------+-----------+--------------------+\n",
      "|      66394.875|       7.069512154|             7.204639709|                       3.18|    39741.07751| 1499988.88|71956 Jenkins Fal...|\n",
      "|       74399.84|       6.382452912|             7.252665322|                       6.36|    41084.66282| 1417819.74|03819 Lee Junctio...|\n",
      "|       75795.58|       5.786780024|             7.327325343|                       6.25|    33197.77774|1534479.907|562 Brown Junctio...|\n",
      "|       82061.56|       4.182828228|             5.963031884|                        4.1|     36271.4085|1102821.438|708 Pena Ramp\\nTe...|\n",
      "|      67579.234|       5.973219004|             7.754357545|                       6.32|    21762.94969|1170959.526|744 Hill Ports\\nM...|\n",
      "|       67310.04|       7.193792989|             7.760732555|                       5.28|    43310.61243|1714445.175|89002 Robert Squa...|\n",
      "|       86924.36|       6.832939699|             7.738295553|                       6.32|    28719.41089|1809154.289|922 Mark Lodge\\nM...|\n",
      "|       68898.34|       6.787648529|             7.871352644|                       6.39|    39515.57156|1530124.016|777 Ross Crossroa...|\n",
      "|      58708.418|       5.083861036|             6.262825884|                       4.07|    15969.92604| 483986.109|33410 Smith Summi...|\n",
      "|       68343.16|        6.39244379|             8.425112895|                        6.2|    40653.87007|1721739.384|4746 Morgan Forge...|\n",
      "|       73313.55|       6.414723236|             8.492901229|                       4.46|    37808.99667|1604920.973|08091 Bush Course...|\n",
      "|       67946.71|       5.403175673|             5.671136343|                       3.21|    35197.94257|1043483.915|68672 Guzman Ridg...|\n",
      "|       67019.07|       6.487943167|               7.3313301|                       6.26|    24997.10871|1134397.758|378 Evans Crest\\n...|\n",
      "|       56063.48|        5.10693512|             5.385339778|                       4.14|     39129.2967| 734827.508|09897 Katherine F...|\n",
      "|       56357.19|       5.707903109|             5.240300887|                       3.25|     38061.9983|953939.3299|4160 Martinez Bri...|\n",
      "|      62784.332|       7.572350215|             4.652717554|                       3.31|    35122.38947|1007478.748|6660 Alex Park\\nB...|\n",
      "|      65967.766|       6.847724976|             7.777279444|                       3.14|    35799.96255|1474546.762|842 Jackson Parkw...|\n",
      "|      65316.996|       7.414875231|             6.733084867|                        2.0|    55799.49748|1534889.853|32521 Martinez Hi...|\n",
      "|      56976.547|       6.061212241|             7.259286709|                       3.08|    46375.50249| 1203247.89|46619 Morgan Squa...|\n",
      "|       78050.97|       5.234044768|             6.290305888|                       4.15|    27789.74852|1075596.587|2606 Stout Inlet\\...|\n",
      "+---------------+------------------+------------------------+---------------------------+---------------+-----------+--------------------+\n",
      "only showing top 20 rows\n",
      "\n"
     ]
    }
   ],
   "source": [
    "## show rows with nan values\n",
    "df.filter(df['Avg_Area_Income'].isNull()).show()"
   ]
  },
  {
   "cell_type": "code",
   "execution_count": 15,
   "metadata": {},
   "outputs": [
    {
     "data": {
      "text/plain": [
       "5000"
      ]
     },
     "execution_count": 15,
     "metadata": {},
     "output_type": "execute_result"
    }
   ],
   "source": [
    "## Handling missing values\n",
    "df.count()"
   ]
  },
  {
   "cell_type": "code",
   "execution_count": 16,
   "metadata": {},
   "outputs": [
    {
     "data": {
      "text/plain": [
       "4499"
      ]
     },
     "execution_count": 16,
     "metadata": {},
     "output_type": "execute_result"
    }
   ],
   "source": [
    "df = df.na.drop()\n",
    "df.count()"
   ]
  },
  {
   "cell_type": "markdown",
   "metadata": {},
   "source": [
    "## Filling NaN Values"
   ]
  },
  {
   "cell_type": "code",
   "execution_count": 47,
   "metadata": {},
   "outputs": [
    {
     "name": "stdout",
     "output_type": "stream",
     "text": [
      "+---------------+------------------+------------------------+---------------------------+---------------+-----------+--------------------+\n",
      "|Avg_Area_Income|Avg_Area_House_Age|Avg_Area_Number_of_Rooms|Avg_Area_Number_of_Bedrooms|Area_Population|      Price|             Address|\n",
      "+---------------+------------------+------------------------+---------------------------+---------------+-----------+--------------------+\n",
      "|       79545.46|         5.6828613|                7.009188|                       4.09|     23086.8005|1059033.558|208 Michael Ferry...|\n",
      "|       79248.64|         6.0028996|                6.730821|                       3.09|    40173.07217|1505890.915|188 Johnson Views...|\n",
      "|      61287.066|           5.86589|                8.512728|                       5.13|     36882.1594|1058987.988|9127 Elizabeth St...|\n",
      "|       63345.24|          7.188236|               5.5867286|                       3.26|    34310.24283|1260616.807|USS Barnett\\nFPO ...|\n",
      "|      59982.195|         5.0405545|                7.839388|                       4.23|    26354.10947|630943.4893|USNS Raymond\\nFPO...|\n",
      "|       80175.76|         4.9884076|                6.104512|                       4.04|    26748.42842|1068138.074|06039 Jennifer Is...|\n",
      "|      64698.465|          6.025336|                8.147759|                       3.41|    60828.24909|1502055.817|4759 Daniel Shoal...|\n",
      "|      78394.336|              NULL|                6.620478|                       2.42|    36516.35897|1573936.564|972 Joyce Viaduct...|\n",
      "|       59927.66|         5.3621254|                6.393121|                        2.3|      29387.396|798869.5328|USS Gilbert\\nFPO ...|\n",
      "|       81885.93|         4.4236717|                8.167688|                        6.1|    40149.96575|1545154.813|Unit 9446 Box 095...|\n",
      "|       80527.47|          8.093513|                5.042747|                        4.1|    47224.35984|1707045.722|6368 John Motorwa...|\n",
      "|      50593.695|          4.496513|               7.4676275|                       4.49|    34343.99189|663732.3969|911 Castillo Park...|\n",
      "|       39033.81|         7.6717553|                7.250029|                        3.1|    39220.36147|1042814.098|209 Natasha Strea...|\n",
      "|      73163.664|         6.9195347|                5.993188|                       2.27|    32326.12314|1291331.518|829 Welch Track A...|\n",
      "|       69391.38|          5.344776|                8.406418|                       4.37|    35521.29403| 1402818.21|PSC 5330, Box 442...|\n",
      "|       73091.87|         5.4431562|                    NULL|                       4.01|    23929.52405| 1306674.66|2278 Shannon View...|\n",
      "|       79706.96|         5.0678897|                8.219771|                       3.12|    39717.81358|  1556786.6|064 Hayley Unions...|\n",
      "|       61929.08|         4.7885504|               5.0970097|                        4.3|     24595.9015|528485.2467|5498 Rachel Locks...|\n",
      "|      63508.195|          5.947165|                    NULL|                       5.12|    35719.65305|1019425.937|Unit 7424 Box 278...|\n",
      "|      62085.277|          5.739411|               7.0918083|                       5.49|     44922.1067|1030591.429|19696 Benjamin Ca...|\n",
      "+---------------+------------------+------------------------+---------------------------+---------------+-----------+--------------------+\n",
      "only showing top 20 rows\n",
      "\n"
     ]
    }
   ],
   "source": [
    "## Filling missing values\n",
    "\n",
    "# read again the data\n",
    "df = spark.read.format(\"csv\").load(\"data/housing.csv\", header=True, sep=',',inferSchema=True, multiLine=True)\n",
    "df = df = df.withColumnRenamed(\"Avg. Area Income\", \"Avg_Area_Income\") \\\n",
    "       .withColumnRenamed(\"Avg. Area House Age\", \"Avg_Area_House_Age\") \\\n",
    "       .withColumnRenamed(\"Avg. Area Number of Rooms\", \"Avg_Area_Number_of_Rooms\") \\\n",
    "       .withColumnRenamed(\"Avg. Area Number of Bedrooms\", \"Avg_Area_Number_of_Bedrooms\") \\\n",
    "       .withColumnRenamed(\"Area Population\", \"Area_Population\")\n",
    "\n",
    "## pyspark seed\n",
    "random.seed(42)\n",
    "\n",
    "## generate random values over the first, second and third columns\n",
    "def random_nan(value):\n",
    "    if random.random() < 0.1:\n",
    "        return None\n",
    "    return value\n",
    "\n",
    "## modify values randomly over the first column\n",
    "random_nan_udf = udf(random_nan, FloatType())\n",
    "\n",
    "df = df.withColumn('Avg_Area_Income', random_nan_udf(df['Avg_Area_Income']))\n",
    "df = df.withColumn('Avg_Area_House_Age', random_nan_udf(df['Avg_Area_House_Age']))\n",
    "df = df.withColumn('Avg_Area_Number_of_Rooms', random_nan_udf(df['Avg_Area_Number_of_Rooms']))\n",
    "\n",
    "\n",
    "## show rows with nan values\n",
    "df.show(20)\n"
   ]
  },
  {
   "cell_type": "code",
   "execution_count": 48,
   "metadata": {},
   "outputs": [
    {
     "name": "stdout",
     "output_type": "stream",
     "text": [
      "+---------------+------------------+------------------------+---------------------------+---------------+-----------+--------------------+\n",
      "|Avg_Area_Income|Avg_Area_House_Age|Avg_Area_Number_of_Rooms|Avg_Area_Number_of_Bedrooms|Area_Population|      Price|             Address|\n",
      "+---------------+------------------+------------------------+---------------------------+---------------+-----------+--------------------+\n",
      "|       79545.46|         5.6828613|                7.009188|                       4.09|     23086.8005|1059033.558|208 Michael Ferry...|\n",
      "|       79248.64|         6.0028996|                6.730821|                       3.09|    40173.07217|1505890.915|188 Johnson Views...|\n",
      "|      61287.066|           5.86589|                8.512728|                       5.13|     36882.1594|1058987.988|9127 Elizabeth St...|\n",
      "|       63345.24|          7.188236|                    NULL|                       3.26|    34310.24283|1260616.807|USS Barnett\\nFPO ...|\n",
      "|      59982.195|              NULL|                7.839388|                       4.23|    26354.10947|630943.4893|USNS Raymond\\nFPO...|\n",
      "+---------------+------------------+------------------------+---------------------------+---------------+-----------+--------------------+\n",
      "only showing top 5 rows\n",
      "\n"
     ]
    }
   ],
   "source": [
    "## filling missing values with the mean of the column  \n",
    "from pyspark.sql.functions import mean\n",
    "df.na.fill(df.select(mean(df['Avg_Area_Income'])).collect()[0][0], ['Avg_Area_Income']).show(5)"
   ]
  },
  {
   "cell_type": "code",
   "execution_count": 49,
   "metadata": {},
   "outputs": [
    {
     "name": "stdout",
     "output_type": "stream",
     "text": [
      "+---------------+------------------+------------------------+---------------------------+---------------+-----------+--------------------+\n",
      "|Avg_Area_Income|Avg_Area_House_Age|Avg_Area_Number_of_Rooms|Avg_Area_Number_of_Bedrooms|Area_Population|      Price|             Address|\n",
      "+---------------+------------------+------------------------+---------------------------+---------------+-----------+--------------------+\n",
      "|           NULL|         5.6828613|                7.009188|                       4.09|     23086.8005|1059033.558|208 Michael Ferry...|\n",
      "|       79248.64|              NULL|                6.730821|                       3.09|    40173.07217|1505890.915|188 Johnson Views...|\n",
      "|      61287.066|           5.86589|                8.512728|                       5.13|     36882.1594|1058987.988|9127 Elizabeth St...|\n",
      "|       63345.24|          7.188236|                    NULL|                       3.26|    34310.24283|1260616.807|USS Barnett\\nFPO ...|\n",
      "|      59982.195|         5.0405545|                7.839388|                       4.23|    26354.10947|630943.4893|USNS Raymond\\nFPO...|\n",
      "|       80175.76|         4.9884076|                    NULL|                       4.04|    26748.42842|1068138.074|06039 Jennifer Is...|\n",
      "|           NULL|          6.025336|                8.147759|                       3.41|    60828.24909|1502055.817|4759 Daniel Shoal...|\n",
      "|      78394.336|           6.98978|                6.620478|                       2.42|    36516.35897|1573936.564|972 Joyce Viaduct...|\n",
      "|       59927.66|              NULL|                6.393121|                        2.3|      29387.396|798869.5328|USS Gilbert\\nFPO ...|\n",
      "|       81885.93|         4.4236717|                8.167688|                        6.1|    40149.96575|1545154.813|Unit 9446 Box 095...|\n",
      "|       80527.47|          8.093513|                    NULL|                        4.1|    47224.35984|1707045.722|6368 John Motorwa...|\n",
      "|      50593.695|          4.496513|               7.4676275|                       4.49|    34343.99189|663732.3969|911 Castillo Park...|\n",
      "|       39033.81|         7.6717553|                7.250029|                        3.1|    39220.36147|1042814.098|209 Natasha Strea...|\n",
      "|      73163.664|              NULL|                5.993188|                       2.27|    32326.12314|1291331.518|829 Welch Track A...|\n",
      "|       69391.38|          5.344776|                    NULL|                       4.37|    35521.29403| 1402818.21|PSC 5330, Box 442...|\n",
      "|       73091.87|         5.4431562|                8.517512|                       4.01|    23929.52405| 1306674.66|2278 Shannon View...|\n",
      "|       79706.96|         5.0678897|                8.219771|                       3.12|    39717.81358|  1556786.6|064 Hayley Unions...|\n",
      "|           NULL|         4.7885504|               5.0970097|                        4.3|     24595.9015|528485.2467|5498 Rachel Locks...|\n",
      "|      63508.195|          5.947165|               7.1877737|                       5.12|    35719.65305|1019425.937|Unit 7424 Box 278...|\n",
      "|      62085.277|          5.739411|               7.0918083|                       5.49|     44922.1067|1030591.429|19696 Benjamin Ca...|\n",
      "+---------------+------------------+------------------------+---------------------------+---------------+-----------+--------------------+\n",
      "only showing top 20 rows\n",
      "\n"
     ]
    }
   ],
   "source": [
    "# read again the data\n",
    "df = spark.read.format(\"csv\").load(\"data/housing.csv\", header=True, sep=',',inferSchema=True, multiLine=True)\n",
    "df = df = df.withColumnRenamed(\"Avg. Area Income\", \"Avg_Area_Income\") \\\n",
    "       .withColumnRenamed(\"Avg. Area House Age\", \"Avg_Area_House_Age\") \\\n",
    "       .withColumnRenamed(\"Avg. Area Number of Rooms\", \"Avg_Area_Number_of_Rooms\") \\\n",
    "       .withColumnRenamed(\"Avg. Area Number of Bedrooms\", \"Avg_Area_Number_of_Bedrooms\") \\\n",
    "       .withColumnRenamed(\"Area Population\", \"Area_Population\")\n",
    "\n",
    "## pyspark seed\n",
    "random.seed(42)\n",
    "\n",
    "## generate random values over the first, second and third columns\n",
    "def random_nan(value):\n",
    "    if random.random() < 0.1:\n",
    "        return None\n",
    "    return value\n",
    "\n",
    "## modify values randomly over the first column\n",
    "random_nan_udf = udf(random_nan, FloatType())\n",
    "\n",
    "df = df.withColumn('Avg_Area_Income', random_nan_udf(df['Avg_Area_Income']))\n",
    "df = df.withColumn('Avg_Area_House_Age', random_nan_udf(df['Avg_Area_House_Age']))\n",
    "df = df.withColumn('Avg_Area_Number_of_Rooms', random_nan_udf(df['Avg_Area_Number_of_Rooms']))\n",
    "\n",
    "\n",
    "## show rows with nan values\n",
    "df.show(20)"
   ]
  },
  {
   "cell_type": "code",
   "execution_count": 50,
   "metadata": {},
   "outputs": [
    {
     "name": "stdout",
     "output_type": "stream",
     "text": [
      "+---------------+------------------+------------------------+---------------------------+---------------+-----------+--------------------+------------------------+---------------------------+\n",
      "|Avg_Area_Income|Avg_Area_House_Age|Avg_Area_Number_of_Rooms|Avg_Area_Number_of_Bedrooms|Area_Population|      Price|             Address|.Avg_Area_Income_imputed|.Avg_Area_House_Age_imputed|\n",
      "+---------------+------------------+------------------------+---------------------------+---------------+-----------+--------------------+------------------------+---------------------------+\n",
      "|       79545.46|         5.6828613|                7.009188|                       4.09|     23086.8005|1059033.558|208 Michael Ferry...|                79545.46|                  5.6828613|\n",
      "|       79248.64|         6.0028996|                    NULL|                       3.09|    40173.07217|1505890.915|188 Johnson Views...|                79248.64|                  6.0028996|\n",
      "|      61287.066|           5.86589|                8.512728|                       5.13|     36882.1594|1058987.988|9127 Elizabeth St...|               61287.066|                    5.86589|\n",
      "|       63345.24|          7.188236|                    NULL|                       3.26|    34310.24283|1260616.807|USS Barnett\\nFPO ...|                63345.24|                   7.188236|\n",
      "|      59982.195|              NULL|                7.839388|                       4.23|    26354.10947|630943.4893|USNS Raymond\\nFPO...|               59982.195|                  5.9730067|\n",
      "|       80175.76|         4.9884076|                6.104512|                       4.04|    26748.42842|1068138.074|06039 Jennifer Is...|                80175.76|                  4.9884076|\n",
      "|      64698.465|              NULL|                8.147759|                       3.41|    60828.24909|1502055.817|4759 Daniel Shoal...|               64698.465|                  5.9730067|\n",
      "|      78394.336|           6.98978|                6.620478|                       2.42|    36516.35897|1573936.564|972 Joyce Viaduct...|               78394.336|                    6.98978|\n",
      "|       59927.66|         5.3621254|                6.393121|                        2.3|      29387.396|798869.5328|USS Gilbert\\nFPO ...|                59927.66|                  5.3621254|\n",
      "|       81885.93|         4.4236717|                8.167688|                        6.1|    40149.96575|1545154.813|Unit 9446 Box 095...|                81885.93|                  4.4236717|\n",
      "|           NULL|          8.093513|                5.042747|                        4.1|    47224.35984|1707045.722|6368 John Motorwa...|                68682.69|                   8.093513|\n",
      "|           NULL|          4.496513|               7.4676275|                       4.49|    34343.99189|663732.3969|911 Castillo Park...|                68682.69|                   4.496513|\n",
      "|       39033.81|         7.6717553|                7.250029|                        3.1|    39220.36147|1042814.098|209 Natasha Strea...|                39033.81|                  7.6717553|\n",
      "|      73163.664|         6.9195347|                5.993188|                       2.27|    32326.12314|1291331.518|829 Welch Track A...|               73163.664|                  6.9195347|\n",
      "|       69391.38|              NULL|                    NULL|                       4.37|    35521.29403| 1402818.21|PSC 5330, Box 442...|                69391.38|                  5.9730067|\n",
      "|       73091.87|         5.4431562|                8.517512|                       4.01|    23929.52405| 1306674.66|2278 Shannon View...|                73091.87|                  5.4431562|\n",
      "|       79706.96|         5.0678897|                8.219771|                       3.12|    39717.81358|  1556786.6|064 Hayley Unions...|                79706.96|                  5.0678897|\n",
      "|           NULL|              NULL|               5.0970097|                        4.3|     24595.9015|528485.2467|5498 Rachel Locks...|                68682.69|                  5.9730067|\n",
      "|      63508.195|          5.947165|               7.1877737|                       5.12|    35719.65305|1019425.937|Unit 7424 Box 278...|               63508.195|                   5.947165|\n",
      "|      62085.277|          5.739411|               7.0918083|                       5.49|     44922.1067|1030591.429|19696 Benjamin Ca...|               62085.277|                   5.739411|\n",
      "+---------------+------------------+------------------------+---------------------------+---------------+-----------+--------------------+------------------------+---------------------------+\n",
      "only showing top 20 rows\n",
      "\n"
     ]
    }
   ],
   "source": [
    "## replace nan values with the mean of the column\n",
    "from pyspark.ml.feature import Imputer\n",
    "\n",
    "imputer = Imputer(inputCols=['Avg_Area_Income', 'Avg_Area_House_Age'], \n",
    "                  outputCols=[\".{}_imputed\".format(c) for c in ['Avg_Area_Income', 'Avg_Area_House_Age']]).setStrategy(\"mean\")\n",
    "\n",
    "\n",
    "imputer.fit(df).transform(df).show(20)"
   ]
  },
  {
   "cell_type": "markdown",
   "metadata": {},
   "source": [
    "## Filter Operation"
   ]
  },
  {
   "cell_type": "code",
   "execution_count": 52,
   "metadata": {},
   "outputs": [
    {
     "name": "stdout",
     "output_type": "stream",
     "text": [
      "+---------------+------------------+------------------------+---------------------------+---------------+-----------+--------------------+\n",
      "|Avg_Area_Income|Avg_Area_House_Age|Avg_Area_Number_of_Rooms|Avg_Area_Number_of_Bedrooms|Area_Population|      Price|             Address|\n",
      "+---------------+------------------+------------------------+---------------------------+---------------+-----------+--------------------+\n",
      "|    79545.45857|       5.682861322|             7.009188143|                       4.09|     23086.8005|1059033.558|208 Michael Ferry...|\n",
      "|    79248.64245|       6.002899808|             6.730821019|                       3.09|    40173.07217|1505890.915|188 Johnson Views...|\n",
      "|    61287.06718|        5.86588984|              8.51272743|                       5.13|     36882.1594|1058987.988|9127 Elizabeth St...|\n",
      "|    63345.24005|       7.188236095|             5.586728665|                       3.26|    34310.24283|1260616.807|USS Barnett\\nFPO ...|\n",
      "|    59982.19723|       5.040554523|             7.839387785|                       4.23|    26354.10947|630943.4893|USNS Raymond\\nFPO...|\n",
      "+---------------+------------------+------------------------+---------------------------+---------------+-----------+--------------------+\n",
      "only showing top 5 rows\n",
      "\n"
     ]
    }
   ],
   "source": [
    "## read dataset\n",
    "# read again the data\n",
    "df = spark.read.format(\"csv\").load(\"data/housing.csv\", header=True, sep=',',inferSchema=True, multiLine=True)\n",
    "df = df = df.withColumnRenamed(\"Avg. Area Income\", \"Avg_Area_Income\") \\\n",
    "       .withColumnRenamed(\"Avg. Area House Age\", \"Avg_Area_House_Age\") \\\n",
    "       .withColumnRenamed(\"Avg. Area Number of Rooms\", \"Avg_Area_Number_of_Rooms\") \\\n",
    "       .withColumnRenamed(\"Avg. Area Number of Bedrooms\", \"Avg_Area_Number_of_Bedrooms\") \\\n",
    "       .withColumnRenamed(\"Area Population\", \"Area_Population\")\n",
    "       \n",
    "## pyspark seed\n",
    "random.seed(42)\n",
    "\n",
    "df.show(5)"
   ]
  },
  {
   "cell_type": "code",
   "execution_count": 56,
   "metadata": {},
   "outputs": [
    {
     "name": "stdout",
     "output_type": "stream",
     "text": [
      "+---------------+------------------+------------------------+---------------------------+---------------+-----------+--------------------+\n",
      "|Avg_Area_Income|Avg_Area_House_Age|Avg_Area_Number_of_Rooms|Avg_Area_Number_of_Bedrooms|Area_Population|      Price|             Address|\n",
      "+---------------+------------------+------------------------+---------------------------+---------------+-----------+--------------------+\n",
      "|    80175.75416|       4.988407758|             6.104512439|                       4.04|    26748.42842|1068138.074|06039 Jennifer Is...|\n",
      "|    81885.92718|        4.42367179|             8.167688003|                        6.1|    40149.96575|1545154.813|Unit 9446 Box 095...|\n",
      "|    80527.47208|       8.093512681|               5.0427468|                        4.1|    47224.35984|1707045.722|6368 John Motorwa...|\n",
      "|    86294.99909|        6.62745694|             8.011897853|                       4.07|    47560.77534| 2146925.34|030 Larry Park Su...|\n",
      "|    82173.62608|       4.018524685|             6.992698757|                       2.03|    38853.91807|1125692.507|3599 Ramirez Spri...|\n",
      "+---------------+------------------+------------------------+---------------------------+---------------+-----------+--------------------+\n",
      "only showing top 5 rows\n",
      "\n",
      "+---------------+------------------+------------------------+---------------------------+---------------+-----------+--------------------+\n",
      "|Avg_Area_Income|Avg_Area_House_Age|Avg_Area_Number_of_Rooms|Avg_Area_Number_of_Bedrooms|Area_Population|      Price|             Address|\n",
      "+---------------+------------------+------------------------+---------------------------+---------------+-----------+--------------------+\n",
      "|    80175.75416|       4.988407758|             6.104512439|                       4.04|    26748.42842|1068138.074|06039 Jennifer Is...|\n",
      "|    81885.92718|        4.42367179|             8.167688003|                        6.1|    40149.96575|1545154.813|Unit 9446 Box 095...|\n",
      "|    80527.47208|       8.093512681|               5.0427468|                        4.1|    47224.35984|1707045.722|6368 John Motorwa...|\n",
      "|    86294.99909|        6.62745694|             8.011897853|                       4.07|    47560.77534| 2146925.34|030 Larry Park Su...|\n",
      "|    82173.62608|       4.018524685|             6.992698757|                       2.03|    38853.91807|1125692.507|3599 Ramirez Spri...|\n",
      "+---------------+------------------+------------------------+---------------------------+---------------+-----------+--------------------+\n",
      "only showing top 5 rows\n",
      "\n"
     ]
    }
   ],
   "source": [
    "## filter avg area income greater than 80000\n",
    "df.filter(df['Avg_Area_Income'] > 80000).show(5)\n",
    "\n",
    "## filter avg area income greater than 80000\n",
    "df.filter(\"Avg_Area_Income > 80000\").show(5)"
   ]
  },
  {
   "cell_type": "code",
   "execution_count": 57,
   "metadata": {},
   "outputs": [
    {
     "name": "stdout",
     "output_type": "stream",
     "text": [
      "+---------------+---------------+\n",
      "|Avg_Area_Income|Area_Population|\n",
      "+---------------+---------------+\n",
      "|    80175.75416|    26748.42842|\n",
      "|    81885.92718|    40149.96575|\n",
      "|    80527.47208|    47224.35984|\n",
      "|    86294.99909|    47560.77534|\n",
      "|    82173.62608|    38853.91807|\n",
      "+---------------+---------------+\n",
      "only showing top 5 rows\n",
      "\n"
     ]
    }
   ],
   "source": [
    "## filter avg area income greater than 80000\n",
    "df.filter(\"Avg_Area_Income > 80000\").select(['Avg_Area_Income','Area_Population']).show(5)"
   ]
  },
  {
   "cell_type": "markdown",
   "metadata": {},
   "source": [
    "## Groupby operations"
   ]
  },
  {
   "cell_type": "code",
   "execution_count": 58,
   "metadata": {},
   "outputs": [
    {
     "name": "stdout",
     "output_type": "stream",
     "text": [
      "+---------------+------------------+------------------------+---------------------------+---------------+-----------+--------------------+\n",
      "|Avg_Area_Income|Avg_Area_House_Age|Avg_Area_Number_of_Rooms|Avg_Area_Number_of_Bedrooms|Area_Population|      Price|             Address|\n",
      "+---------------+------------------+------------------------+---------------------------+---------------+-----------+--------------------+\n",
      "|    79545.45857|       5.682861322|             7.009188143|                       4.09|     23086.8005|1059033.558|208 Michael Ferry...|\n",
      "|    79248.64245|       6.002899808|             6.730821019|                       3.09|    40173.07217|1505890.915|188 Johnson Views...|\n",
      "|    61287.06718|        5.86588984|              8.51272743|                       5.13|     36882.1594|1058987.988|9127 Elizabeth St...|\n",
      "|    63345.24005|       7.188236095|             5.586728665|                       3.26|    34310.24283|1260616.807|USS Barnett\\nFPO ...|\n",
      "|    59982.19723|       5.040554523|             7.839387785|                       4.23|    26354.10947|630943.4893|USNS Raymond\\nFPO...|\n",
      "+---------------+------------------+------------------------+---------------------------+---------------+-----------+--------------------+\n",
      "only showing top 5 rows\n",
      "\n"
     ]
    }
   ],
   "source": [
    "## read again the data\n",
    "df = spark.read.format(\"csv\").load(\"data/housing.csv\", header=True, sep=',',inferSchema=True, multiLine=True)\n",
    "df = df = df.withColumnRenamed(\"Avg. Area Income\", \"Avg_Area_Income\") \\\n",
    "       .withColumnRenamed(\"Avg. Area House Age\", \"Avg_Area_House_Age\") \\\n",
    "       .withColumnRenamed(\"Avg. Area Number of Rooms\", \"Avg_Area_Number_of_Rooms\") \\\n",
    "       .withColumnRenamed(\"Avg. Area Number of Bedrooms\", \"Avg_Area_Number_of_Bedrooms\") \\\n",
    "       .withColumnRenamed(\"Area Population\", \"Area_Population\")\n",
    "       \n",
    "## pyspark seed\n",
    "random.seed(42)\n",
    "\n",
    "## show the first 5 rows\n",
    "df.show(5)"
   ]
  },
  {
   "cell_type": "code",
   "execution_count": 59,
   "metadata": {},
   "outputs": [
    {
     "name": "stdout",
     "output_type": "stream",
     "text": [
      "+---------------------------+-----+\n",
      "|Avg_Area_Number_of_Bedrooms|count|\n",
      "+---------------------------+-----+\n",
      "|                       3.26|   25|\n",
      "|                       4.19|   33|\n",
      "|                        2.4|   19|\n",
      "|                       5.05|   13|\n",
      "|                       5.13|   13|\n",
      "|                       5.48|   10|\n",
      "|                       2.41|    9|\n",
      "|                       6.44|    7|\n",
      "|                       6.17|    7|\n",
      "|                       3.02|   34|\n",
      "|                       4.23|   33|\n",
      "|                        5.4|   13|\n",
      "|                       6.27|   11|\n",
      "|                       4.02|   33|\n",
      "|                       6.43|   18|\n",
      "|                       3.08|   26|\n",
      "|                       4.36|   29|\n",
      "|                        3.5|   32|\n",
      "|                        6.1|   19|\n",
      "|                       2.28|   12|\n",
      "+---------------------------+-----+\n",
      "only showing top 20 rows\n",
      "\n"
     ]
    }
   ],
   "source": [
    "## group by avg area number of bedrooms\n",
    "df.groupBy(\"Avg_Area_Number_of_Bedrooms\").count().show()"
   ]
  },
  {
   "cell_type": "code",
   "execution_count": 60,
   "metadata": {},
   "outputs": [
    {
     "name": "stdout",
     "output_type": "stream",
     "text": [
      "+---------------------------+--------------------+\n",
      "|Avg_Area_Number_of_Bedrooms|sum(Avg_Area_Income)|\n",
      "+---------------------------+--------------------+\n",
      "|                       3.26|  1678189.9352099996|\n",
      "|                       4.19|  2197466.3429199997|\n",
      "|                        2.4|  1288603.9395100002|\n",
      "|                       5.05|        891658.42447|\n",
      "|                       5.13|   820151.4083499999|\n",
      "|                       5.48|        705207.80489|\n",
      "|                       2.41|        634125.52629|\n",
      "|                       6.44|        466709.38056|\n",
      "|                       6.17|        521614.37352|\n",
      "|                       3.02|  2315050.3622700004|\n",
      "|                       4.23|  2249686.5653600004|\n",
      "|                        5.4|   859719.3765799999|\n",
      "|                       6.27|        725897.71919|\n",
      "|                       4.02|  2206801.2514700005|\n",
      "|                       6.43|  1219523.4166499998|\n",
      "|                       3.08|  1776050.5639700003|\n",
      "|                       4.36|  1959927.0505399997|\n",
      "|                        3.5|  2234096.8602699996|\n",
      "|                        6.1|       1417200.63202|\n",
      "|                       2.28|        865329.43789|\n",
      "+---------------------------+--------------------+\n",
      "only showing top 20 rows\n",
      "\n"
     ]
    }
   ],
   "source": [
    "## group by avg area number of bedrooms and sum avg area income\n",
    "df.groupBy(\"Avg_Area_Number_of_Bedrooms\").sum('Avg_Area_Income').show()"
   ]
  }
 ],
 "metadata": {
  "kernelspec": {
   "display_name": "dataEng_env",
   "language": "python",
   "name": "python3"
  },
  "language_info": {
   "codemirror_mode": {
    "name": "ipython",
    "version": 3
   },
   "file_extension": ".py",
   "mimetype": "text/x-python",
   "name": "python",
   "nbconvert_exporter": "python",
   "pygments_lexer": "ipython3",
   "version": "3.10.11"
  }
 },
 "nbformat": 4,
 "nbformat_minor": 2
}
